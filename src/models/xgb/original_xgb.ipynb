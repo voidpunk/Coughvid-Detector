{
 "cells": [
  {
   "cell_type": "code",
   "execution_count": 1,
   "metadata": {},
   "outputs": [],
   "source": [
    "import os\n",
    "import sys\n",
    "sys.path.append(os.path.abspath('../../'))\n",
    "from modules.coughvid_functions import classify_cough\n",
    "from scipy.io import wavfile\n",
    "from joblib import load\n",
    "from xgboost import XGBClassifier"
   ]
  },
  {
   "cell_type": "code",
   "execution_count": 2,
   "metadata": {},
   "outputs": [
    {
     "name": "stderr",
     "output_type": "stream",
     "text": [
      "/home/nil/.miniconda3/envs/coughvid/lib/python3.8/site-packages/sklearn/base.py:329: UserWarning: Trying to unpickle estimator StandardScaler from version 1.1.0 when using version 1.1.1. This might lead to breaking code or invalid results. Use at your own risk. For more info please refer to:\n",
      "https://scikit-learn.org/stable/model_persistence.html#security-maintainability-limitations\n",
      "  warnings.warn(\n"
     ]
    }
   ],
   "source": [
    "samples_dir = '../../samples/'\n",
    "scl = load('./scaler.pkl')\n",
    "clf = XGBClassifier()\n",
    "clf.load_model('./model.pkl')"
   ]
  },
  {
   "cell_type": "code",
   "execution_count": 3,
   "metadata": {},
   "outputs": [
    {
     "name": "stdout",
     "output_type": "stream",
     "text": [
      "The file cough.wav has a 99.28% probability of being a cough\n"
     ]
    }
   ],
   "source": [
    "filename = 'cough.wav'\n",
    "fs, x = wavfile.read(samples_dir + filename)\n",
    "probability = classify_cough(x, fs, clf, scl)\n",
    "print(\"The file {0} has a {1}% probability of being a cough\".format(filename,round(probability*100,2)))"
   ]
  },
  {
   "cell_type": "code",
   "execution_count": 4,
   "metadata": {},
   "outputs": [
    {
     "name": "stdout",
     "output_type": "stream",
     "text": [
      "The file not_cough.wav has a 0.48% probability of being a cough\n"
     ]
    }
   ],
   "source": [
    "filename = 'not_cough.wav'\n",
    "fs, x = wavfile.read(samples_dir + filename)\n",
    "probability = classify_cough(x, fs, clf, scl)\n",
    "print(\"The file {0} has a {1}% probability of being a cough\".format(filename,round(probability*100,2)))"
   ]
  }
 ],
 "metadata": {
  "interpreter": {
   "hash": "267b22d4ba5206b3371cc8bd1505a3a5cbbea21fe828659d90bb5dfb3aec5415"
  },
  "kernelspec": {
   "display_name": "Python 3.8.13 ('coughvid')",
   "language": "python",
   "name": "python3"
  },
  "language_info": {
   "codemirror_mode": {
    "name": "ipython",
    "version": 3
   },
   "file_extension": ".py",
   "mimetype": "text/x-python",
   "name": "python",
   "nbconvert_exporter": "python",
   "pygments_lexer": "ipython3",
   "version": "3.8.13"
  },
  "orig_nbformat": 4
 },
 "nbformat": 4,
 "nbformat_minor": 2
}
