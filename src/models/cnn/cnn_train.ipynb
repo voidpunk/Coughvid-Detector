{
 "cells": [
  {
   "cell_type": "code",
   "execution_count": 1,
   "metadata": {},
   "outputs": [],
   "source": [
    "from fastai.vision.all import *\n",
    "import torch"
   ]
  },
  {
   "cell_type": "code",
   "execution_count": 2,
   "metadata": {},
   "outputs": [],
   "source": [
    "path = Path('../../../data/extracted_images')\n",
    "\n",
    "def label_func(file):\n",
    "    status = file.split('-')[1][0]\n",
    "    code = file[-8:-4]\n",
    "    if code.count('0') == 4:\n",
    "        syn = 0\n",
    "    else:\n",
    "        count = (\n",
    "            (1, code.count('1')),\n",
    "            (2, code.count('2')),\n",
    "            (3, code.count('3')),\n",
    "            (4, code.count('4')),\n",
    "            (5, code.count('5'))\n",
    "        )\n",
    "        syn = max(count, key=itemgetter(1))[0]\n",
    "    code = status + str(syn)\n",
    "    covid = ['33', '03', '30', '23', '31', '32', '34']\n",
    "    other = ['15', '05', '10', '25', '21', '22', '24', '01', '02', '04', '20']\n",
    "    if code in covid:\n",
    "        return True\n",
    "    elif code in other:\n",
    "        return False"
   ]
  },
  {
   "cell_type": "code",
   "execution_count": 3,
   "metadata": {},
   "outputs": [],
   "source": [
    "dls = ImageDataLoaders.from_name_func(\n",
    "    path=path,\n",
    "    fnames=get_image_files(path),\n",
    "    label_func=label_func,\n",
    "    item_tfms=Resize(1025, pad_mode='zeros'),\n",
    "    valid_pct=0.2,\n",
    "    seed=3,\n",
    "    bs=4,\n",
    "    num_workers=0,\n",
    "    device=torch.device('cuda')\n",
    ")"
   ]
  },
  {
   "cell_type": "code",
   "execution_count": 4,
   "metadata": {},
   "outputs": [],
   "source": [
    "learn = vision_learner(\n",
    "    dls,\n",
    "    models.resnet18,\n",
    "    metrics=[accuracy, error_rate, F1Score()]\n",
    ")"
   ]
  },
  {
   "cell_type": "code",
   "execution_count": 9,
   "metadata": {},
   "outputs": [
    {
     "data": {
      "text/html": [
       "\n",
       "<style>\n",
       "    /* Turns off some styling */\n",
       "    progress {\n",
       "        /* gets rid of default border in Firefox and Opera. */\n",
       "        border: none;\n",
       "        /* Needs to be in here for Safari polyfill so background images work as expected. */\n",
       "        background-size: auto;\n",
       "    }\n",
       "    .progress-bar-interrupted, .progress-bar-interrupted::-webkit-progress-bar {\n",
       "        background: #F44336;\n",
       "    }\n",
       "</style>\n"
      ],
      "text/plain": [
       "<IPython.core.display.HTML object>"
      ]
     },
     "metadata": {},
     "output_type": "display_data"
    },
    {
     "data": {
      "text/html": [
       "<table border=\"1\" class=\"dataframe\">\n",
       "  <thead>\n",
       "    <tr style=\"text-align: left;\">\n",
       "      <th>epoch</th>\n",
       "      <th>train_loss</th>\n",
       "      <th>valid_loss</th>\n",
       "      <th>accuracy</th>\n",
       "      <th>error_rate</th>\n",
       "      <th>f1_score</th>\n",
       "      <th>time</th>\n",
       "    </tr>\n",
       "  </thead>\n",
       "  <tbody>\n",
       "    <tr>\n",
       "      <td>0</td>\n",
       "      <td>0.260216</td>\n",
       "      <td>0.407426</td>\n",
       "      <td>0.932180</td>\n",
       "      <td>0.067820</td>\n",
       "      <td>0.000000</td>\n",
       "      <td>28:42</td>\n",
       "    </tr>\n",
       "  </tbody>\n",
       "</table>"
      ],
      "text/plain": [
       "<IPython.core.display.HTML object>"
      ]
     },
     "metadata": {},
     "output_type": "display_data"
    },
    {
     "data": {
      "text/html": [
       "\n",
       "<style>\n",
       "    /* Turns off some styling */\n",
       "    progress {\n",
       "        /* gets rid of default border in Firefox and Opera. */\n",
       "        border: none;\n",
       "        /* Needs to be in here for Safari polyfill so background images work as expected. */\n",
       "        background-size: auto;\n",
       "    }\n",
       "    .progress-bar-interrupted, .progress-bar-interrupted::-webkit-progress-bar {\n",
       "        background: #F44336;\n",
       "    }\n",
       "</style>\n"
      ],
      "text/plain": [
       "<IPython.core.display.HTML object>"
      ]
     },
     "metadata": {},
     "output_type": "display_data"
    },
    {
     "data": {
      "text/html": [
       "<table border=\"1\" class=\"dataframe\">\n",
       "  <thead>\n",
       "    <tr style=\"text-align: left;\">\n",
       "      <th>epoch</th>\n",
       "      <th>train_loss</th>\n",
       "      <th>valid_loss</th>\n",
       "      <th>accuracy</th>\n",
       "      <th>error_rate</th>\n",
       "      <th>f1_score</th>\n",
       "      <th>time</th>\n",
       "    </tr>\n",
       "  </thead>\n",
       "  <tbody>\n",
       "    <tr>\n",
       "      <td>0</td>\n",
       "      <td>0.326501</td>\n",
       "      <td>0.252099</td>\n",
       "      <td>0.932180</td>\n",
       "      <td>0.067820</td>\n",
       "      <td>0.000000</td>\n",
       "      <td>35:44</td>\n",
       "    </tr>\n",
       "  </tbody>\n",
       "</table>"
      ],
      "text/plain": [
       "<IPython.core.display.HTML object>"
      ]
     },
     "metadata": {},
     "output_type": "display_data"
    }
   ],
   "source": [
    "learn.fine_tune(1) # 2"
   ]
  },
  {
   "cell_type": "code",
   "execution_count": 10,
   "metadata": {},
   "outputs": [
    {
     "data": {
      "text/html": [
       "\n",
       "<style>\n",
       "    /* Turns off some styling */\n",
       "    progress {\n",
       "        /* gets rid of default border in Firefox and Opera. */\n",
       "        border: none;\n",
       "        /* Needs to be in here for Safari polyfill so background images work as expected. */\n",
       "        background-size: auto;\n",
       "    }\n",
       "    .progress-bar-interrupted, .progress-bar-interrupted::-webkit-progress-bar {\n",
       "        background: #F44336;\n",
       "    }\n",
       "</style>\n"
      ],
      "text/plain": [
       "<IPython.core.display.HTML object>"
      ]
     },
     "metadata": {},
     "output_type": "display_data"
    },
    {
     "data": {
      "text/html": [],
      "text/plain": [
       "<IPython.core.display.HTML object>"
      ]
     },
     "metadata": {},
     "output_type": "display_data"
    },
    {
     "data": {
      "text/html": [
       "\n",
       "<style>\n",
       "    /* Turns off some styling */\n",
       "    progress {\n",
       "        /* gets rid of default border in Firefox and Opera. */\n",
       "        border: none;\n",
       "        /* Needs to be in here for Safari polyfill so background images work as expected. */\n",
       "        background-size: auto;\n",
       "    }\n",
       "    .progress-bar-interrupted, .progress-bar-interrupted::-webkit-progress-bar {\n",
       "        background: #F44336;\n",
       "    }\n",
       "</style>\n"
      ],
      "text/plain": [
       "<IPython.core.display.HTML object>"
      ]
     },
     "metadata": {},
     "output_type": "display_data"
    },
    {
     "data": {
      "text/html": [],
      "text/plain": [
       "<IPython.core.display.HTML object>"
      ]
     },
     "metadata": {},
     "output_type": "display_data"
    },
    {
     "data": {
      "image/png": "[encoded data removed]",
      "text/plain": [
       "<Figure size 432x288 with 1 Axes>"
      ]
     },
     "metadata": {
      "needs_background": "light"
     },
     "output_type": "display_data"
    }
   ],
   "source": [
    "interp = ClassificationInterpretation.from_learner(learn)\n",
    "interp.plot_confusion_matrix()"
   ]
  },
  {
   "cell_type": "code",
   "execution_count": 7,
   "metadata": {},
   "outputs": [
    {
     "data": {
      "text/html": [
       "\n",
       "<style>\n",
       "    /* Turns off some styling */\n",
       "    progress {\n",
       "        /* gets rid of default border in Firefox and Opera. */\n",
       "        border: none;\n",
       "        /* Needs to be in here for Safari polyfill so background images work as expected. */\n",
       "        background-size: auto;\n",
       "    }\n",
       "    .progress-bar-interrupted, .progress-bar-interrupted::-webkit-progress-bar {\n",
       "        background: #F44336;\n",
       "    }\n",
       "</style>\n"
      ],
      "text/plain": [
       "<IPython.core.display.HTML object>"
      ]
     },
     "metadata": {},
     "output_type": "display_data"
    },
    {
     "data": {
      "text/html": [
       "\n",
       "    <div>\n",
       "      <progress value='0' class='' max='1' style='width:300px; height:20px; vertical-align: middle;'></progress>\n",
       "      0.00% [0/1 00:00<00:00]\n",
       "    </div>\n",
       "    "
      ],
      "text/plain": [
       "<IPython.core.display.HTML object>"
      ]
     },
     "metadata": {},
     "output_type": "display_data"
    },
    {
     "ename": "FileNotFoundError",
     "evalue": "[Errno 2] No such file or directory: '../../../data/public_dataset/314-10000.png'",
     "output_type": "error",
     "traceback": [
      "\u001b[0;31m---------------------------------------------------------------------------\u001b[0m",
      "\u001b[0;31mFileNotFoundError\u001b[0m                         Traceback (most recent call last)",
      "\u001b[1;32m/home/nil/GitHub/Coughvid-Detector/src/models/cnn/cnn_train.ipynb Cell 7'\u001b[0m in \u001b[0;36m<cell line: 1>\u001b[0;34m()\u001b[0m\n\u001b[0;32m----> <a href='vscode-notebook-cell:/home/nil/GitHub/Coughvid-Detector/src/models/cnn/cnn_train.ipynb#ch0000006?line=0'>1</a>\u001b[0m learn\u001b[39m.\u001b[39;49mpredict(\u001b[39m'\u001b[39;49m\u001b[39m../../../data/public_dataset/314-10000.png\u001b[39;49m\u001b[39m'\u001b[39;49m)\n",
      "File \u001b[0;32m~/.miniconda3/envs/py310/lib/python3.10/site-packages/fastai/learner.py:269\u001b[0m, in \u001b[0;36mLearner.predict\u001b[0;34m(self, item, rm_type_tfms, with_input)\u001b[0m\n\u001b[1;32m    <a href='file:///home/nil/.miniconda3/envs/py310/lib/python3.10/site-packages/fastai/learner.py?line=266'>267</a>\u001b[0m \u001b[39mdef\u001b[39;00m \u001b[39mpredict\u001b[39m(\u001b[39mself\u001b[39m, item, rm_type_tfms\u001b[39m=\u001b[39m\u001b[39mNone\u001b[39;00m, with_input\u001b[39m=\u001b[39m\u001b[39mFalse\u001b[39;00m):\n\u001b[1;32m    <a href='file:///home/nil/.miniconda3/envs/py310/lib/python3.10/site-packages/fastai/learner.py?line=267'>268</a>\u001b[0m     dl \u001b[39m=\u001b[39m \u001b[39mself\u001b[39m\u001b[39m.\u001b[39mdls\u001b[39m.\u001b[39mtest_dl([item], rm_type_tfms\u001b[39m=\u001b[39mrm_type_tfms, num_workers\u001b[39m=\u001b[39m\u001b[39m0\u001b[39m)\n\u001b[0;32m--> <a href='file:///home/nil/.miniconda3/envs/py310/lib/python3.10/site-packages/fastai/learner.py?line=268'>269</a>\u001b[0m     inp,preds,_,dec_preds \u001b[39m=\u001b[39m \u001b[39mself\u001b[39;49m\u001b[39m.\u001b[39;49mget_preds(dl\u001b[39m=\u001b[39;49mdl, with_input\u001b[39m=\u001b[39;49m\u001b[39mTrue\u001b[39;49;00m, with_decoded\u001b[39m=\u001b[39;49m\u001b[39mTrue\u001b[39;49;00m)\n\u001b[1;32m    <a href='file:///home/nil/.miniconda3/envs/py310/lib/python3.10/site-packages/fastai/learner.py?line=269'>270</a>\u001b[0m     i \u001b[39m=\u001b[39m \u001b[39mgetattr\u001b[39m(\u001b[39mself\u001b[39m\u001b[39m.\u001b[39mdls, \u001b[39m'\u001b[39m\u001b[39mn_inp\u001b[39m\u001b[39m'\u001b[39m, \u001b[39m-\u001b[39m\u001b[39m1\u001b[39m)\n\u001b[1;32m    <a href='file:///home/nil/.miniconda3/envs/py310/lib/python3.10/site-packages/fastai/learner.py?line=270'>271</a>\u001b[0m     inp \u001b[39m=\u001b[39m (inp,) \u001b[39mif\u001b[39;00m i\u001b[39m==\u001b[39m\u001b[39m1\u001b[39m \u001b[39melse\u001b[39;00m tuplify(inp)\n",
      "File \u001b[0;32m~/.miniconda3/envs/py310/lib/python3.10/site-packages/fastai/learner.py:256\u001b[0m, in \u001b[0;36mLearner.get_preds\u001b[0;34m(self, ds_idx, dl, with_input, with_decoded, with_loss, act, inner, reorder, cbs, **kwargs)\u001b[0m\n\u001b[1;32m    <a href='file:///home/nil/.miniconda3/envs/py310/lib/python3.10/site-packages/fastai/learner.py?line=253'>254</a>\u001b[0m \u001b[39mif\u001b[39;00m with_loss: ctx_mgrs\u001b[39m.\u001b[39mappend(\u001b[39mself\u001b[39m\u001b[39m.\u001b[39mloss_not_reduced())\n\u001b[1;32m    <a href='file:///home/nil/.miniconda3/envs/py310/lib/python3.10/site-packages/fastai/learner.py?line=254'>255</a>\u001b[0m \u001b[39mwith\u001b[39;00m ContextManagers(ctx_mgrs):\n\u001b[0;32m--> <a href='file:///home/nil/.miniconda3/envs/py310/lib/python3.10/site-packages/fastai/learner.py?line=255'>256</a>\u001b[0m     \u001b[39mself\u001b[39;49m\u001b[39m.\u001b[39;49m_do_epoch_validate(dl\u001b[39m=\u001b[39;49mdl)\n\u001b[1;32m    <a href='file:///home/nil/.miniconda3/envs/py310/lib/python3.10/site-packages/fastai/learner.py?line=256'>257</a>\u001b[0m     \u001b[39mif\u001b[39;00m act \u001b[39mis\u001b[39;00m \u001b[39mNone\u001b[39;00m: act \u001b[39m=\u001b[39m \u001b[39mgetattr\u001b[39m(\u001b[39mself\u001b[39m\u001b[39m.\u001b[39mloss_func, \u001b[39m'\u001b[39m\u001b[39mactivation\u001b[39m\u001b[39m'\u001b[39m, noop)\n\u001b[1;32m    <a href='file:///home/nil/.miniconda3/envs/py310/lib/python3.10/site-packages/fastai/learner.py?line=257'>258</a>\u001b[0m     res \u001b[39m=\u001b[39m cb\u001b[39m.\u001b[39mall_tensors()\n",
      "File \u001b[0;32m~/.miniconda3/envs/py310/lib/python3.10/site-packages/fastai/learner.py:204\u001b[0m, in \u001b[0;36mLearner._do_epoch_validate\u001b[0;34m(self, ds_idx, dl)\u001b[0m\n\u001b[1;32m    <a href='file:///home/nil/.miniconda3/envs/py310/lib/python3.10/site-packages/fastai/learner.py?line=201'>202</a>\u001b[0m \u001b[39mif\u001b[39;00m dl \u001b[39mis\u001b[39;00m \u001b[39mNone\u001b[39;00m: dl \u001b[39m=\u001b[39m \u001b[39mself\u001b[39m\u001b[39m.\u001b[39mdls[ds_idx]\n\u001b[1;32m    <a href='file:///home/nil/.miniconda3/envs/py310/lib/python3.10/site-packages/fastai/learner.py?line=202'>203</a>\u001b[0m \u001b[39mself\u001b[39m\u001b[39m.\u001b[39mdl \u001b[39m=\u001b[39m dl\n\u001b[0;32m--> <a href='file:///home/nil/.miniconda3/envs/py310/lib/python3.10/site-packages/fastai/learner.py?line=203'>204</a>\u001b[0m \u001b[39mwith\u001b[39;00m torch\u001b[39m.\u001b[39mno_grad(): \u001b[39mself\u001b[39;49m\u001b[39m.\u001b[39;49m_with_events(\u001b[39mself\u001b[39;49m\u001b[39m.\u001b[39;49mall_batches, \u001b[39m'\u001b[39;49m\u001b[39mvalidate\u001b[39;49m\u001b[39m'\u001b[39;49m, CancelValidException)\n",
      "File \u001b[0;32m~/.miniconda3/envs/py310/lib/python3.10/site-packages/fastai/learner.py:164\u001b[0m, in \u001b[0;36mLearner._with_events\u001b[0;34m(self, f, event_type, ex, final)\u001b[0m\n\u001b[1;32m    <a href='file:///home/nil/.miniconda3/envs/py310/lib/python3.10/site-packages/fastai/learner.py?line=162'>163</a>\u001b[0m \u001b[39mdef\u001b[39;00m \u001b[39m_with_events\u001b[39m(\u001b[39mself\u001b[39m, f, event_type, ex, final\u001b[39m=\u001b[39mnoop):\n\u001b[0;32m--> <a href='file:///home/nil/.miniconda3/envs/py310/lib/python3.10/site-packages/fastai/learner.py?line=163'>164</a>\u001b[0m     \u001b[39mtry\u001b[39;00m: \u001b[39mself\u001b[39m(\u001b[39mf\u001b[39m\u001b[39m'\u001b[39m\u001b[39mbefore_\u001b[39m\u001b[39m{\u001b[39;00mevent_type\u001b[39m}\u001b[39;00m\u001b[39m'\u001b[39m);  f()\n\u001b[1;32m    <a href='file:///home/nil/.miniconda3/envs/py310/lib/python3.10/site-packages/fastai/learner.py?line=164'>165</a>\u001b[0m     \u001b[39mexcept\u001b[39;00m ex: \u001b[39mself\u001b[39m(\u001b[39mf\u001b[39m\u001b[39m'\u001b[39m\u001b[39mafter_cancel_\u001b[39m\u001b[39m{\u001b[39;00mevent_type\u001b[39m}\u001b[39;00m\u001b[39m'\u001b[39m)\n\u001b[1;32m    <a href='file:///home/nil/.miniconda3/envs/py310/lib/python3.10/site-packages/fastai/learner.py?line=165'>166</a>\u001b[0m     \u001b[39mself\u001b[39m(\u001b[39mf\u001b[39m\u001b[39m'\u001b[39m\u001b[39mafter_\u001b[39m\u001b[39m{\u001b[39;00mevent_type\u001b[39m}\u001b[39;00m\u001b[39m'\u001b[39m);  final()\n",
      "File \u001b[0;32m~/.miniconda3/envs/py310/lib/python3.10/site-packages/fastai/learner.py:170\u001b[0m, in \u001b[0;36mLearner.all_batches\u001b[0;34m(self)\u001b[0m\n\u001b[1;32m    <a href='file:///home/nil/.miniconda3/envs/py310/lib/python3.10/site-packages/fastai/learner.py?line=167'>168</a>\u001b[0m \u001b[39mdef\u001b[39;00m \u001b[39mall_batches\u001b[39m(\u001b[39mself\u001b[39m):\n\u001b[1;32m    <a href='file:///home/nil/.miniconda3/envs/py310/lib/python3.10/site-packages/fastai/learner.py?line=168'>169</a>\u001b[0m     \u001b[39mself\u001b[39m\u001b[39m.\u001b[39mn_iter \u001b[39m=\u001b[39m \u001b[39mlen\u001b[39m(\u001b[39mself\u001b[39m\u001b[39m.\u001b[39mdl)\n\u001b[0;32m--> <a href='file:///home/nil/.miniconda3/envs/py310/lib/python3.10/site-packages/fastai/learner.py?line=169'>170</a>\u001b[0m     \u001b[39mfor\u001b[39;00m o \u001b[39min\u001b[39;00m \u001b[39menumerate\u001b[39m(\u001b[39mself\u001b[39m\u001b[39m.\u001b[39mdl): \u001b[39mself\u001b[39m\u001b[39m.\u001b[39mone_batch(\u001b[39m*\u001b[39mo)\n",
      "File \u001b[0;32m~/.miniconda3/envs/py310/lib/python3.10/site-packages/fastai/data/load.py:125\u001b[0m, in \u001b[0;36mDataLoader.__iter__\u001b[0;34m(self)\u001b[0m\n\u001b[1;32m    <a href='file:///home/nil/.miniconda3/envs/py310/lib/python3.10/site-packages/fastai/data/load.py?line=122'>123</a>\u001b[0m \u001b[39mself\u001b[39m\u001b[39m.\u001b[39mbefore_iter()\n\u001b[1;32m    <a href='file:///home/nil/.miniconda3/envs/py310/lib/python3.10/site-packages/fastai/data/load.py?line=123'>124</a>\u001b[0m \u001b[39mself\u001b[39m\u001b[39m.\u001b[39m__idxs\u001b[39m=\u001b[39m\u001b[39mself\u001b[39m\u001b[39m.\u001b[39mget_idxs() \u001b[39m# called in context of main process (not workers/subprocesses)\u001b[39;00m\n\u001b[0;32m--> <a href='file:///home/nil/.miniconda3/envs/py310/lib/python3.10/site-packages/fastai/data/load.py?line=124'>125</a>\u001b[0m \u001b[39mfor\u001b[39;00m b \u001b[39min\u001b[39;00m _loaders[\u001b[39mself\u001b[39m\u001b[39m.\u001b[39mfake_l\u001b[39m.\u001b[39mnum_workers\u001b[39m==\u001b[39m\u001b[39m0\u001b[39m](\u001b[39mself\u001b[39m\u001b[39m.\u001b[39mfake_l):\n\u001b[1;32m    <a href='file:///home/nil/.miniconda3/envs/py310/lib/python3.10/site-packages/fastai/data/load.py?line=125'>126</a>\u001b[0m     \u001b[39m# pin_memory causes tuples to be converted to lists, so convert them back to tuples\u001b[39;00m\n\u001b[1;32m    <a href='file:///home/nil/.miniconda3/envs/py310/lib/python3.10/site-packages/fastai/data/load.py?line=126'>127</a>\u001b[0m     \u001b[39mif\u001b[39;00m \u001b[39mself\u001b[39m\u001b[39m.\u001b[39mpin_memory \u001b[39mand\u001b[39;00m \u001b[39mtype\u001b[39m(b) \u001b[39m==\u001b[39m \u001b[39mlist\u001b[39m: b \u001b[39m=\u001b[39m \u001b[39mtuple\u001b[39m(b)\n\u001b[1;32m    <a href='file:///home/nil/.miniconda3/envs/py310/lib/python3.10/site-packages/fastai/data/load.py?line=127'>128</a>\u001b[0m     \u001b[39mif\u001b[39;00m \u001b[39mself\u001b[39m\u001b[39m.\u001b[39mdevice \u001b[39mis\u001b[39;00m \u001b[39mnot\u001b[39;00m \u001b[39mNone\u001b[39;00m: b \u001b[39m=\u001b[39m to_device(b, \u001b[39mself\u001b[39m\u001b[39m.\u001b[39mdevice)\n",
      "File \u001b[0;32m~/.miniconda3/envs/py310/lib/python3.10/site-packages/torch/utils/data/dataloader.py:530\u001b[0m, in \u001b[0;36m_BaseDataLoaderIter.__next__\u001b[0;34m(self)\u001b[0m\n\u001b[1;32m    <a href='file:///home/nil/.miniconda3/envs/py310/lib/python3.10/site-packages/torch/utils/data/dataloader.py?line=527'>528</a>\u001b[0m \u001b[39mif\u001b[39;00m \u001b[39mself\u001b[39m\u001b[39m.\u001b[39m_sampler_iter \u001b[39mis\u001b[39;00m \u001b[39mNone\u001b[39;00m:\n\u001b[1;32m    <a href='file:///home/nil/.miniconda3/envs/py310/lib/python3.10/site-packages/torch/utils/data/dataloader.py?line=528'>529</a>\u001b[0m     \u001b[39mself\u001b[39m\u001b[39m.\u001b[39m_reset()\n\u001b[0;32m--> <a href='file:///home/nil/.miniconda3/envs/py310/lib/python3.10/site-packages/torch/utils/data/dataloader.py?line=529'>530</a>\u001b[0m data \u001b[39m=\u001b[39m \u001b[39mself\u001b[39;49m\u001b[39m.\u001b[39;49m_next_data()\n\u001b[1;32m    <a href='file:///home/nil/.miniconda3/envs/py310/lib/python3.10/site-packages/torch/utils/data/dataloader.py?line=530'>531</a>\u001b[0m \u001b[39mself\u001b[39m\u001b[39m.\u001b[39m_num_yielded \u001b[39m+\u001b[39m\u001b[39m=\u001b[39m \u001b[39m1\u001b[39m\n\u001b[1;32m    <a href='file:///home/nil/.miniconda3/envs/py310/lib/python3.10/site-packages/torch/utils/data/dataloader.py?line=531'>532</a>\u001b[0m \u001b[39mif\u001b[39;00m \u001b[39mself\u001b[39m\u001b[39m.\u001b[39m_dataset_kind \u001b[39m==\u001b[39m _DatasetKind\u001b[39m.\u001b[39mIterable \u001b[39mand\u001b[39;00m \\\n\u001b[1;32m    <a href='file:///home/nil/.miniconda3/envs/py310/lib/python3.10/site-packages/torch/utils/data/dataloader.py?line=532'>533</a>\u001b[0m         \u001b[39mself\u001b[39m\u001b[39m.\u001b[39m_IterableDataset_len_called \u001b[39mis\u001b[39;00m \u001b[39mnot\u001b[39;00m \u001b[39mNone\u001b[39;00m \u001b[39mand\u001b[39;00m \\\n\u001b[1;32m    <a href='file:///home/nil/.miniconda3/envs/py310/lib/python3.10/site-packages/torch/utils/data/dataloader.py?line=533'>534</a>\u001b[0m         \u001b[39mself\u001b[39m\u001b[39m.\u001b[39m_num_yielded \u001b[39m>\u001b[39m \u001b[39mself\u001b[39m\u001b[39m.\u001b[39m_IterableDataset_len_called:\n",
      "File \u001b[0;32m~/.miniconda3/envs/py310/lib/python3.10/site-packages/torch/utils/data/dataloader.py:570\u001b[0m, in \u001b[0;36m_SingleProcessDataLoaderIter._next_data\u001b[0;34m(self)\u001b[0m\n\u001b[1;32m    <a href='file:///home/nil/.miniconda3/envs/py310/lib/python3.10/site-packages/torch/utils/data/dataloader.py?line=567'>568</a>\u001b[0m \u001b[39mdef\u001b[39;00m \u001b[39m_next_data\u001b[39m(\u001b[39mself\u001b[39m):\n\u001b[1;32m    <a href='file:///home/nil/.miniconda3/envs/py310/lib/python3.10/site-packages/torch/utils/data/dataloader.py?line=568'>569</a>\u001b[0m     index \u001b[39m=\u001b[39m \u001b[39mself\u001b[39m\u001b[39m.\u001b[39m_next_index()  \u001b[39m# may raise StopIteration\u001b[39;00m\n\u001b[0;32m--> <a href='file:///home/nil/.miniconda3/envs/py310/lib/python3.10/site-packages/torch/utils/data/dataloader.py?line=569'>570</a>\u001b[0m     data \u001b[39m=\u001b[39m \u001b[39mself\u001b[39;49m\u001b[39m.\u001b[39;49m_dataset_fetcher\u001b[39m.\u001b[39;49mfetch(index)  \u001b[39m# may raise StopIteration\u001b[39;00m\n\u001b[1;32m    <a href='file:///home/nil/.miniconda3/envs/py310/lib/python3.10/site-packages/torch/utils/data/dataloader.py?line=570'>571</a>\u001b[0m     \u001b[39mif\u001b[39;00m \u001b[39mself\u001b[39m\u001b[39m.\u001b[39m_pin_memory:\n\u001b[1;32m    <a href='file:///home/nil/.miniconda3/envs/py310/lib/python3.10/site-packages/torch/utils/data/dataloader.py?line=571'>572</a>\u001b[0m         data \u001b[39m=\u001b[39m _utils\u001b[39m.\u001b[39mpin_memory\u001b[39m.\u001b[39mpin_memory(data)\n",
      "File \u001b[0;32m~/.miniconda3/envs/py310/lib/python3.10/site-packages/torch/utils/data/_utils/fetch.py:39\u001b[0m, in \u001b[0;36m_IterableDatasetFetcher.fetch\u001b[0;34m(self, possibly_batched_index)\u001b[0m\n\u001b[1;32m     <a href='file:///home/nil/.miniconda3/envs/py310/lib/python3.10/site-packages/torch/utils/data/_utils/fetch.py?line=36'>37</a>\u001b[0m         \u001b[39mraise\u001b[39;00m \u001b[39mStopIteration\u001b[39;00m\n\u001b[1;32m     <a href='file:///home/nil/.miniconda3/envs/py310/lib/python3.10/site-packages/torch/utils/data/_utils/fetch.py?line=37'>38</a>\u001b[0m \u001b[39melse\u001b[39;00m:\n\u001b[0;32m---> <a href='file:///home/nil/.miniconda3/envs/py310/lib/python3.10/site-packages/torch/utils/data/_utils/fetch.py?line=38'>39</a>\u001b[0m     data \u001b[39m=\u001b[39m \u001b[39mnext\u001b[39;49m(\u001b[39mself\u001b[39;49m\u001b[39m.\u001b[39;49mdataset_iter)\n\u001b[1;32m     <a href='file:///home/nil/.miniconda3/envs/py310/lib/python3.10/site-packages/torch/utils/data/_utils/fetch.py?line=39'>40</a>\u001b[0m \u001b[39mreturn\u001b[39;00m \u001b[39mself\u001b[39m\u001b[39m.\u001b[39mcollate_fn(data)\n",
      "File \u001b[0;32m~/.miniconda3/envs/py310/lib/python3.10/site-packages/fastai/data/load.py:136\u001b[0m, in \u001b[0;36mDataLoader.create_batches\u001b[0;34m(self, samps)\u001b[0m\n\u001b[1;32m    <a href='file:///home/nil/.miniconda3/envs/py310/lib/python3.10/site-packages/fastai/data/load.py?line=133'>134</a>\u001b[0m \u001b[39mif\u001b[39;00m \u001b[39mself\u001b[39m\u001b[39m.\u001b[39mdataset \u001b[39mis\u001b[39;00m \u001b[39mnot\u001b[39;00m \u001b[39mNone\u001b[39;00m: \u001b[39mself\u001b[39m\u001b[39m.\u001b[39mit \u001b[39m=\u001b[39m \u001b[39miter\u001b[39m(\u001b[39mself\u001b[39m\u001b[39m.\u001b[39mdataset)\n\u001b[1;32m    <a href='file:///home/nil/.miniconda3/envs/py310/lib/python3.10/site-packages/fastai/data/load.py?line=134'>135</a>\u001b[0m res \u001b[39m=\u001b[39m \u001b[39mfilter\u001b[39m(\u001b[39mlambda\u001b[39;00m o:o \u001b[39mis\u001b[39;00m \u001b[39mnot\u001b[39;00m \u001b[39mNone\u001b[39;00m, \u001b[39mmap\u001b[39m(\u001b[39mself\u001b[39m\u001b[39m.\u001b[39mdo_item, samps))\n\u001b[0;32m--> <a href='file:///home/nil/.miniconda3/envs/py310/lib/python3.10/site-packages/fastai/data/load.py?line=135'>136</a>\u001b[0m \u001b[39myield from\u001b[39;00m \u001b[39mmap\u001b[39m(\u001b[39mself\u001b[39m\u001b[39m.\u001b[39mdo_batch, \u001b[39mself\u001b[39m\u001b[39m.\u001b[39mchunkify(res))\n",
      "File \u001b[0;32m~/.miniconda3/envs/py310/lib/python3.10/site-packages/fastcore/basics.py:219\u001b[0m, in \u001b[0;36mchunked\u001b[0;34m(it, chunk_sz, drop_last, n_chunks)\u001b[0m\n\u001b[1;32m    <a href='file:///home/nil/.miniconda3/envs/py310/lib/python3.10/site-packages/fastcore/basics.py?line=216'>217</a>\u001b[0m \u001b[39mif\u001b[39;00m \u001b[39mnot\u001b[39;00m \u001b[39misinstance\u001b[39m(it, Iterator): it \u001b[39m=\u001b[39m \u001b[39miter\u001b[39m(it)\n\u001b[1;32m    <a href='file:///home/nil/.miniconda3/envs/py310/lib/python3.10/site-packages/fastcore/basics.py?line=217'>218</a>\u001b[0m \u001b[39mwhile\u001b[39;00m \u001b[39mTrue\u001b[39;00m:\n\u001b[0;32m--> <a href='file:///home/nil/.miniconda3/envs/py310/lib/python3.10/site-packages/fastcore/basics.py?line=218'>219</a>\u001b[0m     res \u001b[39m=\u001b[39m \u001b[39mlist\u001b[39;49m(itertools\u001b[39m.\u001b[39;49mislice(it, chunk_sz))\n\u001b[1;32m    <a href='file:///home/nil/.miniconda3/envs/py310/lib/python3.10/site-packages/fastcore/basics.py?line=219'>220</a>\u001b[0m     \u001b[39mif\u001b[39;00m res \u001b[39mand\u001b[39;00m (\u001b[39mlen\u001b[39m(res)\u001b[39m==\u001b[39mchunk_sz \u001b[39mor\u001b[39;00m \u001b[39mnot\u001b[39;00m drop_last): \u001b[39myield\u001b[39;00m res\n\u001b[1;32m    <a href='file:///home/nil/.miniconda3/envs/py310/lib/python3.10/site-packages/fastcore/basics.py?line=220'>221</a>\u001b[0m     \u001b[39mif\u001b[39;00m \u001b[39mlen\u001b[39m(res)\u001b[39m<\u001b[39mchunk_sz: \u001b[39mreturn\u001b[39;00m\n",
      "File \u001b[0;32m~/.miniconda3/envs/py310/lib/python3.10/site-packages/fastai/data/load.py:151\u001b[0m, in \u001b[0;36mDataLoader.do_item\u001b[0;34m(self, s)\u001b[0m\n\u001b[1;32m    <a href='file:///home/nil/.miniconda3/envs/py310/lib/python3.10/site-packages/fastai/data/load.py?line=149'>150</a>\u001b[0m \u001b[39mdef\u001b[39;00m \u001b[39mdo_item\u001b[39m(\u001b[39mself\u001b[39m, s):\n\u001b[0;32m--> <a href='file:///home/nil/.miniconda3/envs/py310/lib/python3.10/site-packages/fastai/data/load.py?line=150'>151</a>\u001b[0m     \u001b[39mtry\u001b[39;00m: \u001b[39mreturn\u001b[39;00m \u001b[39mself\u001b[39m\u001b[39m.\u001b[39mafter_item(\u001b[39mself\u001b[39;49m\u001b[39m.\u001b[39;49mcreate_item(s))\n\u001b[1;32m    <a href='file:///home/nil/.miniconda3/envs/py310/lib/python3.10/site-packages/fastai/data/load.py?line=151'>152</a>\u001b[0m     \u001b[39mexcept\u001b[39;00m SkipItemException: \u001b[39mreturn\u001b[39;00m \u001b[39mNone\u001b[39;00m\n",
      "File \u001b[0;32m~/.miniconda3/envs/py310/lib/python3.10/site-packages/fastai/data/load.py:158\u001b[0m, in \u001b[0;36mDataLoader.create_item\u001b[0;34m(self, s)\u001b[0m\n\u001b[1;32m    <a href='file:///home/nil/.miniconda3/envs/py310/lib/python3.10/site-packages/fastai/data/load.py?line=156'>157</a>\u001b[0m \u001b[39mdef\u001b[39;00m \u001b[39mcreate_item\u001b[39m(\u001b[39mself\u001b[39m, s):\n\u001b[0;32m--> <a href='file:///home/nil/.miniconda3/envs/py310/lib/python3.10/site-packages/fastai/data/load.py?line=157'>158</a>\u001b[0m     \u001b[39mif\u001b[39;00m \u001b[39mself\u001b[39m\u001b[39m.\u001b[39mindexed: \u001b[39mreturn\u001b[39;00m \u001b[39mself\u001b[39;49m\u001b[39m.\u001b[39;49mdataset[s \u001b[39mor\u001b[39;49;00m \u001b[39m0\u001b[39;49m]\n\u001b[1;32m    <a href='file:///home/nil/.miniconda3/envs/py310/lib/python3.10/site-packages/fastai/data/load.py?line=158'>159</a>\u001b[0m     \u001b[39melif\u001b[39;00m s \u001b[39mis\u001b[39;00m \u001b[39mNone\u001b[39;00m:  \u001b[39mreturn\u001b[39;00m \u001b[39mnext\u001b[39m(\u001b[39mself\u001b[39m\u001b[39m.\u001b[39mit)\n\u001b[1;32m    <a href='file:///home/nil/.miniconda3/envs/py310/lib/python3.10/site-packages/fastai/data/load.py?line=159'>160</a>\u001b[0m     \u001b[39melse\u001b[39;00m: \u001b[39mraise\u001b[39;00m \u001b[39mIndexError\u001b[39;00m(\u001b[39m\"\u001b[39m\u001b[39mCannot index an iterable dataset numerically - must use `None`.\u001b[39m\u001b[39m\"\u001b[39m)\n",
      "File \u001b[0;32m~/.miniconda3/envs/py310/lib/python3.10/site-packages/fastai/data/core.py:338\u001b[0m, in \u001b[0;36mDatasets.__getitem__\u001b[0;34m(self, it)\u001b[0m\n\u001b[1;32m    <a href='file:///home/nil/.miniconda3/envs/py310/lib/python3.10/site-packages/fastai/data/core.py?line=336'>337</a>\u001b[0m \u001b[39mdef\u001b[39;00m \u001b[39m__getitem__\u001b[39m(\u001b[39mself\u001b[39m, it):\n\u001b[0;32m--> <a href='file:///home/nil/.miniconda3/envs/py310/lib/python3.10/site-packages/fastai/data/core.py?line=337'>338</a>\u001b[0m     res \u001b[39m=\u001b[39m \u001b[39mtuple\u001b[39m([tl[it] \u001b[39mfor\u001b[39;00m tl \u001b[39min\u001b[39;00m \u001b[39mself\u001b[39m\u001b[39m.\u001b[39mtls])\n\u001b[1;32m    <a href='file:///home/nil/.miniconda3/envs/py310/lib/python3.10/site-packages/fastai/data/core.py?line=338'>339</a>\u001b[0m     \u001b[39mreturn\u001b[39;00m res \u001b[39mif\u001b[39;00m is_indexer(it) \u001b[39melse\u001b[39;00m \u001b[39mlist\u001b[39m(\u001b[39mzip\u001b[39m(\u001b[39m*\u001b[39mres))\n",
      "File \u001b[0;32m~/.miniconda3/envs/py310/lib/python3.10/site-packages/fastai/data/core.py:338\u001b[0m, in \u001b[0;36m<listcomp>\u001b[0;34m(.0)\u001b[0m\n\u001b[1;32m    <a href='file:///home/nil/.miniconda3/envs/py310/lib/python3.10/site-packages/fastai/data/core.py?line=336'>337</a>\u001b[0m \u001b[39mdef\u001b[39;00m \u001b[39m__getitem__\u001b[39m(\u001b[39mself\u001b[39m, it):\n\u001b[0;32m--> <a href='file:///home/nil/.miniconda3/envs/py310/lib/python3.10/site-packages/fastai/data/core.py?line=337'>338</a>\u001b[0m     res \u001b[39m=\u001b[39m \u001b[39mtuple\u001b[39m([tl[it] \u001b[39mfor\u001b[39;00m tl \u001b[39min\u001b[39;00m \u001b[39mself\u001b[39m\u001b[39m.\u001b[39mtls])\n\u001b[1;32m    <a href='file:///home/nil/.miniconda3/envs/py310/lib/python3.10/site-packages/fastai/data/core.py?line=338'>339</a>\u001b[0m     \u001b[39mreturn\u001b[39;00m res \u001b[39mif\u001b[39;00m is_indexer(it) \u001b[39melse\u001b[39;00m \u001b[39mlist\u001b[39m(\u001b[39mzip\u001b[39m(\u001b[39m*\u001b[39mres))\n",
      "File \u001b[0;32m~/.miniconda3/envs/py310/lib/python3.10/site-packages/fastai/data/core.py:304\u001b[0m, in \u001b[0;36mTfmdLists.__getitem__\u001b[0;34m(self, idx)\u001b[0m\n\u001b[1;32m    <a href='file:///home/nil/.miniconda3/envs/py310/lib/python3.10/site-packages/fastai/data/core.py?line=301'>302</a>\u001b[0m res \u001b[39m=\u001b[39m \u001b[39msuper\u001b[39m()\u001b[39m.\u001b[39m\u001b[39m__getitem__\u001b[39m(idx)\n\u001b[1;32m    <a href='file:///home/nil/.miniconda3/envs/py310/lib/python3.10/site-packages/fastai/data/core.py?line=302'>303</a>\u001b[0m \u001b[39mif\u001b[39;00m \u001b[39mself\u001b[39m\u001b[39m.\u001b[39m_after_item \u001b[39mis\u001b[39;00m \u001b[39mNone\u001b[39;00m: \u001b[39mreturn\u001b[39;00m res\n\u001b[0;32m--> <a href='file:///home/nil/.miniconda3/envs/py310/lib/python3.10/site-packages/fastai/data/core.py?line=303'>304</a>\u001b[0m \u001b[39mreturn\u001b[39;00m \u001b[39mself\u001b[39;49m\u001b[39m.\u001b[39;49m_after_item(res) \u001b[39mif\u001b[39;00m is_indexer(idx) \u001b[39melse\u001b[39;00m res\u001b[39m.\u001b[39mmap(\u001b[39mself\u001b[39m\u001b[39m.\u001b[39m_after_item)\n",
      "File \u001b[0;32m~/.miniconda3/envs/py310/lib/python3.10/site-packages/fastai/data/core.py:266\u001b[0m, in \u001b[0;36mTfmdLists._after_item\u001b[0;34m(self, o)\u001b[0m\n\u001b[0;32m--> <a href='file:///home/nil/.miniconda3/envs/py310/lib/python3.10/site-packages/fastai/data/core.py?line=265'>266</a>\u001b[0m \u001b[39mdef\u001b[39;00m \u001b[39m_after_item\u001b[39m(\u001b[39mself\u001b[39m, o): \u001b[39mreturn\u001b[39;00m \u001b[39mself\u001b[39;49m\u001b[39m.\u001b[39;49mtfms(o)\n",
      "File \u001b[0;32m~/.miniconda3/envs/py310/lib/python3.10/site-packages/fastcore/transform.py:200\u001b[0m, in \u001b[0;36mPipeline.__call__\u001b[0;34m(self, o)\u001b[0m\n\u001b[0;32m--> <a href='file:///home/nil/.miniconda3/envs/py310/lib/python3.10/site-packages/fastcore/transform.py?line=199'>200</a>\u001b[0m \u001b[39mdef\u001b[39;00m \u001b[39m__call__\u001b[39m(\u001b[39mself\u001b[39m, o): \u001b[39mreturn\u001b[39;00m compose_tfms(o, tfms\u001b[39m=\u001b[39;49m\u001b[39mself\u001b[39;49m\u001b[39m.\u001b[39;49mfs, split_idx\u001b[39m=\u001b[39;49m\u001b[39mself\u001b[39;49m\u001b[39m.\u001b[39;49msplit_idx)\n",
      "File \u001b[0;32m~/.miniconda3/envs/py310/lib/python3.10/site-packages/fastcore/transform.py:150\u001b[0m, in \u001b[0;36mcompose_tfms\u001b[0;34m(x, tfms, is_enc, reverse, **kwargs)\u001b[0m\n\u001b[1;32m    <a href='file:///home/nil/.miniconda3/envs/py310/lib/python3.10/site-packages/fastcore/transform.py?line=147'>148</a>\u001b[0m \u001b[39mfor\u001b[39;00m f \u001b[39min\u001b[39;00m tfms:\n\u001b[1;32m    <a href='file:///home/nil/.miniconda3/envs/py310/lib/python3.10/site-packages/fastcore/transform.py?line=148'>149</a>\u001b[0m     \u001b[39mif\u001b[39;00m \u001b[39mnot\u001b[39;00m is_enc: f \u001b[39m=\u001b[39m f\u001b[39m.\u001b[39mdecode\n\u001b[0;32m--> <a href='file:///home/nil/.miniconda3/envs/py310/lib/python3.10/site-packages/fastcore/transform.py?line=149'>150</a>\u001b[0m     x \u001b[39m=\u001b[39m f(x, \u001b[39m*\u001b[39;49m\u001b[39m*\u001b[39;49mkwargs)\n\u001b[1;32m    <a href='file:///home/nil/.miniconda3/envs/py310/lib/python3.10/site-packages/fastcore/transform.py?line=150'>151</a>\u001b[0m \u001b[39mreturn\u001b[39;00m x\n",
      "File \u001b[0;32m~/.miniconda3/envs/py310/lib/python3.10/site-packages/fastcore/transform.py:73\u001b[0m, in \u001b[0;36mTransform.__call__\u001b[0;34m(self, x, **kwargs)\u001b[0m\n\u001b[0;32m---> <a href='file:///home/nil/.miniconda3/envs/py310/lib/python3.10/site-packages/fastcore/transform.py?line=72'>73</a>\u001b[0m \u001b[39mdef\u001b[39;00m \u001b[39m__call__\u001b[39m(\u001b[39mself\u001b[39m, x, \u001b[39m*\u001b[39m\u001b[39m*\u001b[39mkwargs): \u001b[39mreturn\u001b[39;00m \u001b[39mself\u001b[39;49m\u001b[39m.\u001b[39;49m_call(\u001b[39m'\u001b[39;49m\u001b[39mencodes\u001b[39;49m\u001b[39m'\u001b[39;49m, x, \u001b[39m*\u001b[39;49m\u001b[39m*\u001b[39;49mkwargs)\n",
      "File \u001b[0;32m~/.miniconda3/envs/py310/lib/python3.10/site-packages/fastcore/transform.py:83\u001b[0m, in \u001b[0;36mTransform._call\u001b[0;34m(self, fn, x, split_idx, **kwargs)\u001b[0m\n\u001b[1;32m     <a href='file:///home/nil/.miniconda3/envs/py310/lib/python3.10/site-packages/fastcore/transform.py?line=80'>81</a>\u001b[0m \u001b[39mdef\u001b[39;00m \u001b[39m_call\u001b[39m(\u001b[39mself\u001b[39m, fn, x, split_idx\u001b[39m=\u001b[39m\u001b[39mNone\u001b[39;00m, \u001b[39m*\u001b[39m\u001b[39m*\u001b[39mkwargs):\n\u001b[1;32m     <a href='file:///home/nil/.miniconda3/envs/py310/lib/python3.10/site-packages/fastcore/transform.py?line=81'>82</a>\u001b[0m     \u001b[39mif\u001b[39;00m split_idx\u001b[39m!=\u001b[39m\u001b[39mself\u001b[39m\u001b[39m.\u001b[39msplit_idx \u001b[39mand\u001b[39;00m \u001b[39mself\u001b[39m\u001b[39m.\u001b[39msplit_idx \u001b[39mis\u001b[39;00m \u001b[39mnot\u001b[39;00m \u001b[39mNone\u001b[39;00m: \u001b[39mreturn\u001b[39;00m x\n\u001b[0;32m---> <a href='file:///home/nil/.miniconda3/envs/py310/lib/python3.10/site-packages/fastcore/transform.py?line=82'>83</a>\u001b[0m     \u001b[39mreturn\u001b[39;00m \u001b[39mself\u001b[39;49m\u001b[39m.\u001b[39;49m_do_call(\u001b[39mgetattr\u001b[39;49m(\u001b[39mself\u001b[39;49m, fn), x, \u001b[39m*\u001b[39;49m\u001b[39m*\u001b[39;49mkwargs)\n",
      "File \u001b[0;32m~/.miniconda3/envs/py310/lib/python3.10/site-packages/fastcore/transform.py:89\u001b[0m, in \u001b[0;36mTransform._do_call\u001b[0;34m(self, f, x, **kwargs)\u001b[0m\n\u001b[1;32m     <a href='file:///home/nil/.miniconda3/envs/py310/lib/python3.10/site-packages/fastcore/transform.py?line=86'>87</a>\u001b[0m     \u001b[39mif\u001b[39;00m f \u001b[39mis\u001b[39;00m \u001b[39mNone\u001b[39;00m: \u001b[39mreturn\u001b[39;00m x\n\u001b[1;32m     <a href='file:///home/nil/.miniconda3/envs/py310/lib/python3.10/site-packages/fastcore/transform.py?line=87'>88</a>\u001b[0m     ret \u001b[39m=\u001b[39m f\u001b[39m.\u001b[39mreturns(x) \u001b[39mif\u001b[39;00m \u001b[39mhasattr\u001b[39m(f,\u001b[39m'\u001b[39m\u001b[39mreturns\u001b[39m\u001b[39m'\u001b[39m) \u001b[39melse\u001b[39;00m \u001b[39mNone\u001b[39;00m\n\u001b[0;32m---> <a href='file:///home/nil/.miniconda3/envs/py310/lib/python3.10/site-packages/fastcore/transform.py?line=88'>89</a>\u001b[0m     \u001b[39mreturn\u001b[39;00m retain_type(f(x, \u001b[39m*\u001b[39;49m\u001b[39m*\u001b[39;49mkwargs), x, ret)\n\u001b[1;32m     <a href='file:///home/nil/.miniconda3/envs/py310/lib/python3.10/site-packages/fastcore/transform.py?line=89'>90</a>\u001b[0m res \u001b[39m=\u001b[39m \u001b[39mtuple\u001b[39m(\u001b[39mself\u001b[39m\u001b[39m.\u001b[39m_do_call(f, x_, \u001b[39m*\u001b[39m\u001b[39m*\u001b[39mkwargs) \u001b[39mfor\u001b[39;00m x_ \u001b[39min\u001b[39;00m x)\n\u001b[1;32m     <a href='file:///home/nil/.miniconda3/envs/py310/lib/python3.10/site-packages/fastcore/transform.py?line=90'>91</a>\u001b[0m \u001b[39mreturn\u001b[39;00m retain_type(res, x)\n",
      "File \u001b[0;32m~/.miniconda3/envs/py310/lib/python3.10/site-packages/fastcore/dispatch.py:123\u001b[0m, in \u001b[0;36mTypeDispatch.__call__\u001b[0;34m(self, *args, **kwargs)\u001b[0m\n\u001b[1;32m    <a href='file:///home/nil/.miniconda3/envs/py310/lib/python3.10/site-packages/fastcore/dispatch.py?line=120'>121</a>\u001b[0m \u001b[39melif\u001b[39;00m \u001b[39mself\u001b[39m\u001b[39m.\u001b[39minst \u001b[39mis\u001b[39;00m \u001b[39mnot\u001b[39;00m \u001b[39mNone\u001b[39;00m: f \u001b[39m=\u001b[39m MethodType(f, \u001b[39mself\u001b[39m\u001b[39m.\u001b[39minst)\n\u001b[1;32m    <a href='file:///home/nil/.miniconda3/envs/py310/lib/python3.10/site-packages/fastcore/dispatch.py?line=121'>122</a>\u001b[0m \u001b[39melif\u001b[39;00m \u001b[39mself\u001b[39m\u001b[39m.\u001b[39mowner \u001b[39mis\u001b[39;00m \u001b[39mnot\u001b[39;00m \u001b[39mNone\u001b[39;00m: f \u001b[39m=\u001b[39m MethodType(f, \u001b[39mself\u001b[39m\u001b[39m.\u001b[39mowner)\n\u001b[0;32m--> <a href='file:///home/nil/.miniconda3/envs/py310/lib/python3.10/site-packages/fastcore/dispatch.py?line=122'>123</a>\u001b[0m \u001b[39mreturn\u001b[39;00m f(\u001b[39m*\u001b[39;49margs, \u001b[39m*\u001b[39;49m\u001b[39m*\u001b[39;49mkwargs)\n",
      "File \u001b[0;32m~/.miniconda3/envs/py310/lib/python3.10/site-packages/fastai/vision/core.py:110\u001b[0m, in \u001b[0;36mPILBase.create\u001b[0;34m(cls, fn, **kwargs)\u001b[0m\n\u001b[1;32m    <a href='file:///home/nil/.miniconda3/envs/py310/lib/python3.10/site-packages/fastai/vision/core.py?line=107'>108</a>\u001b[0m \u001b[39mif\u001b[39;00m \u001b[39misinstance\u001b[39m(fn,ndarray): \u001b[39mreturn\u001b[39;00m \u001b[39mcls\u001b[39m(Image\u001b[39m.\u001b[39mfromarray(fn))\n\u001b[1;32m    <a href='file:///home/nil/.miniconda3/envs/py310/lib/python3.10/site-packages/fastai/vision/core.py?line=108'>109</a>\u001b[0m \u001b[39mif\u001b[39;00m \u001b[39misinstance\u001b[39m(fn,\u001b[39mbytes\u001b[39m): fn \u001b[39m=\u001b[39m io\u001b[39m.\u001b[39mBytesIO(fn)\n\u001b[0;32m--> <a href='file:///home/nil/.miniconda3/envs/py310/lib/python3.10/site-packages/fastai/vision/core.py?line=109'>110</a>\u001b[0m \u001b[39mreturn\u001b[39;00m \u001b[39mcls\u001b[39m(load_image(fn, \u001b[39m*\u001b[39;49m\u001b[39m*\u001b[39;49mmerge(\u001b[39mcls\u001b[39;49m\u001b[39m.\u001b[39;49m_open_args, kwargs)))\n",
      "File \u001b[0;32m~/.miniconda3/envs/py310/lib/python3.10/site-packages/fastai/vision/core.py:85\u001b[0m, in \u001b[0;36mload_image\u001b[0;34m(fn, mode)\u001b[0m\n\u001b[1;32m     <a href='file:///home/nil/.miniconda3/envs/py310/lib/python3.10/site-packages/fastai/vision/core.py?line=82'>83</a>\u001b[0m \u001b[39mdef\u001b[39;00m \u001b[39mload_image\u001b[39m(fn, mode\u001b[39m=\u001b[39m\u001b[39mNone\u001b[39;00m):\n\u001b[1;32m     <a href='file:///home/nil/.miniconda3/envs/py310/lib/python3.10/site-packages/fastai/vision/core.py?line=83'>84</a>\u001b[0m     \u001b[39m\"\u001b[39m\u001b[39mOpen and load a `PIL.Image` and convert to `mode`\u001b[39m\u001b[39m\"\u001b[39m\n\u001b[0;32m---> <a href='file:///home/nil/.miniconda3/envs/py310/lib/python3.10/site-packages/fastai/vision/core.py?line=84'>85</a>\u001b[0m     im \u001b[39m=\u001b[39m Image\u001b[39m.\u001b[39;49mopen(fn)\n\u001b[1;32m     <a href='file:///home/nil/.miniconda3/envs/py310/lib/python3.10/site-packages/fastai/vision/core.py?line=85'>86</a>\u001b[0m     im\u001b[39m.\u001b[39mload()\n\u001b[1;32m     <a href='file:///home/nil/.miniconda3/envs/py310/lib/python3.10/site-packages/fastai/vision/core.py?line=86'>87</a>\u001b[0m     im \u001b[39m=\u001b[39m im\u001b[39m.\u001b[39m_new(im\u001b[39m.\u001b[39mim)\n",
      "File \u001b[0;32m~/.miniconda3/envs/py310/lib/python3.10/site-packages/PIL/Image.py:3068\u001b[0m, in \u001b[0;36mopen\u001b[0;34m(fp, mode, formats)\u001b[0m\n\u001b[1;32m   <a href='file:///home/nil/.miniconda3/envs/py310/lib/python3.10/site-packages/PIL/Image.py?line=3064'>3065</a>\u001b[0m     filename \u001b[39m=\u001b[39m fp\n\u001b[1;32m   <a href='file:///home/nil/.miniconda3/envs/py310/lib/python3.10/site-packages/PIL/Image.py?line=3066'>3067</a>\u001b[0m \u001b[39mif\u001b[39;00m filename:\n\u001b[0;32m-> <a href='file:///home/nil/.miniconda3/envs/py310/lib/python3.10/site-packages/PIL/Image.py?line=3067'>3068</a>\u001b[0m     fp \u001b[39m=\u001b[39m builtins\u001b[39m.\u001b[39;49mopen(filename, \u001b[39m\"\u001b[39;49m\u001b[39mrb\u001b[39;49m\u001b[39m\"\u001b[39;49m)\n\u001b[1;32m   <a href='file:///home/nil/.miniconda3/envs/py310/lib/python3.10/site-packages/PIL/Image.py?line=3068'>3069</a>\u001b[0m     exclusive_fp \u001b[39m=\u001b[39m \u001b[39mTrue\u001b[39;00m\n\u001b[1;32m   <a href='file:///home/nil/.miniconda3/envs/py310/lib/python3.10/site-packages/PIL/Image.py?line=3070'>3071</a>\u001b[0m \u001b[39mtry\u001b[39;00m:\n",
      "\u001b[0;31mFileNotFoundError\u001b[0m: [Errno 2] No such file or directory: '../../../data/public_dataset/314-10000.png'"
     ]
    }
   ],
   "source": [
    "learn.predict('../../../data/public_dataset/314-10000.png')"
   ]
  },
  {
   "cell_type": "code",
   "execution_count": null,
   "metadata": {},
   "outputs": [],
   "source": [
    "learn.export()"
   ]
  },
  {
   "cell_type": "code",
   "execution_count": null,
   "metadata": {},
   "outputs": [],
   "source": [
    "learn = load_learner('./model.pkl')"
   ]
  }
 ],
 "metadata": {
  "interpreter": {
   "hash": "2d19eb0c0cb20c33a786d761f771eb9a193d6b344f42768358f7aff04d7091be"
  },
  "kernelspec": {
   "display_name": "Python 3.10.4 ('py310')",
   "language": "python",
   "name": "python3"
  },
  "language_info": {
   "codemirror_mode": {
    "name": "ipython",
    "version": 3
   },
   "file_extension": ".py",
   "mimetype": "text/x-python",
   "name": "python",
   "nbconvert_exporter": "python",
   "pygments_lexer": "ipython3",
   "version": "3.10.4"
  },
  "orig_nbformat": 4
 },
 "nbformat": 4,
 "nbformat_minor": 2
}
