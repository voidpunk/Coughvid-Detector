{
 "cells": [
  {
   "cell_type": "code",
   "execution_count": 1,
   "metadata": {},
   "outputs": [],
   "source": [
    "import os\n",
    "import numpy as np\n",
    "import pandas as pd\n",
    "from operator import itemgetter\n",
    "import matplotlib.pyplot as plt\n",
    "import seaborn as sns\n",
    "plt.style.use('seaborn')"
   ]
  },
  {
   "cell_type": "code",
   "execution_count": null,
   "metadata": {},
   "outputs": [],
   "source": [
    "def label_func(file):\n",
    "    status = file.split('-')[1][0]\n",
    "    code = file[-8:-4]\n",
    "    if code.count('0') == 4:\n",
    "        syn = 0\n",
    "    else:\n",
    "        count = (\n",
    "            (1, code.count('1')),\n",
    "            (2, code.count('2')),\n",
    "            (3, code.count('3')),\n",
    "            (4, code.count('4')),\n",
    "            (5, code.count('5'))\n",
    "        )\n",
    "        syn = max(count, key=itemgetter(1))[0]\n",
    "    code = status + str(syn)\n",
    "    covid = ['33', '03', '30', '23', '31', '32', '34']\n",
    "    other = ['15', '05', '10', '25', '21', '22', '24', '01', '02', '04', '20']\n",
    "    if code in covid:\n",
    "        return True\n",
    "    elif code in other:            \n",
    "        return False"
   ]
  },
  {
   "cell_type": "code",
   "execution_count": 24,
   "metadata": {},
   "outputs": [],
   "source": [
    "path = '../../../data/balanced'\n",
    "covid, other = [], []\n",
    "counter = 0\n",
    "frequency = 10\n",
    "for el in os.listdir(path):\n",
    "    if label_func(el):\n",
    "        covid.append(1)\n",
    "    else:\n",
    "        counter += 1\n",
    "        if counter % frequency == 0:\n",
    "            other.append(1)\n",
    "        else:\n",
    "            os.remove(os.path.join(path, el))"
   ]
  },
  {
   "cell_type": "code",
   "execution_count": 25,
   "metadata": {},
   "outputs": [
    {
     "data": {
      "text/plain": [
       "(1931, 2350)"
      ]
     },
     "execution_count": 25,
     "metadata": {},
     "output_type": "execute_result"
    }
   ],
   "source": [
    "len(covid), len(other)"
   ]
  },
  {
   "cell_type": "code",
   "execution_count": 26,
   "metadata": {},
   "outputs": [
    {
     "data": {
      "image/png": "[encoded data removed]",
      "text/plain": [
       "<Figure size 720x720 with 1 Axes>"
      ]
     },
     "metadata": {},
     "output_type": "display_data"
    }
   ],
   "source": [
    "plt.figure(figsize=(10,10))\n",
    "plt.yticks([i for i in range(len(other)) if i % 1000 == 0])\n",
    "sns.barplot(x=['COVID-19', 'Other'], y=[len(covid), len(other)])\n",
    "plt.title(f'COVID-19 samples: {100*len(covid)/(len(other)+len(covid)):.2f} %')\n",
    "plt.show()"
   ]
  },
  {
   "cell_type": "code",
   "execution_count": null,
   "metadata": {},
   "outputs": [],
   "source": []
  }
 ],
 "metadata": {
  "interpreter": {
   "hash": "267b22d4ba5206b3371cc8bd1505a3a5cbbea21fe828659d90bb5dfb3aec5415"
  },
  "kernelspec": {
   "display_name": "Python 3.8.13 ('coughvid')",
   "language": "python",
   "name": "python3"
  },
  "language_info": {
   "codemirror_mode": {
    "name": "ipython",
    "version": 3
   },
   "file_extension": ".py",
   "mimetype": "text/x-python",
   "name": "python",
   "nbconvert_exporter": "python",
   "pygments_lexer": "ipython3",
   "version": "3.8.13"
  },
  "orig_nbformat": 4
 },
 "nbformat": 4,
 "nbformat_minor": 2
}
